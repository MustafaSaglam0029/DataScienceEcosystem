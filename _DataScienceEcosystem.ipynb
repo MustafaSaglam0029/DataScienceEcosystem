{
 "cells": [
  {
   "cell_type": "markdown",
   "id": "e26309df",
   "metadata": {},
   "source": [
    "# Data Science Tools and Ecosystem"
   ]
  },
  {
   "cell_type": "markdown",
   "id": "ecbb38c3",
   "metadata": {},
   "source": [
    "In this notebook, Data Science Tools and Ecosystem are summarized."
   ]
  },
  {
   "cell_type": "markdown",
   "id": "065ba670",
   "metadata": {},
   "source": [
    "#### Objectives: \n",
    "List popular languages for Data Science.\n",
    "List common libraries for Data Science.\n",
    "List Data Science Tools.\n",
    "Explain the Arithmetic Expressions."
   ]
  },
  {
   "cell_type": "markdown",
   "id": "f839f061",
   "metadata": {},
   "source": [
    "Data Science Languages are:\n",
    "SQL,\n",
    "R,\n",
    "Scala,\n",
    "Java,\n",
    "Julia,\n",
    "Python."
   ]
  },
  {
   "cell_type": "markdown",
   "id": "f7f9c092",
   "metadata": {},
   "source": [
    "Data Science Libraries are:\n",
    "Pandas,\n",
    "Numpy,\n",
    "Matplotlib,\n",
    "Seaborn,\n",
    "Scikit-learn,\n",
    "Keras\n",
    "Apache Spark\n",
    "ggpilot2."
   ]
  },
  {
   "cell_type": "markdown",
   "id": "5d20932c",
   "metadata": {},
   "source": [
    "###### Data Science Tools\n",
    "\n",
    "Open Source Tools:                       Commercial Tools:                             Cloud Based Tools:\n",
    "Apache Airflow,                          Oracle Database,                              Watson Studio,\n",
    "Kubeflow,                                Microsoft SQL Server,                         Microsoft Azure Machine Learning,\n",
    "Apache Kafka,                            IBM Db2,                                      H2O Driverless AI,\n",
    "Apache Nifi,                             Watson Studio Desktop,                        Amazon Web Services DynamoDB,\n",
    "Apache SparkSQL,                         SAP,                                          Db2,\n",
    "NodeRED,                                 SAS,                                          Cloudant,\n",
    "Jupyter Notebooks,                       Talend,                                       Informatica Cloud Data Integration,\n",
    "JupyterLab,                              Microsoft,                                    IBM’s Data Refinery,\n",
    "Knime,                                   İnformatica Powercenter,                      Datameer,\n",
    "Orange.                                  IBM InfoSphere DataStage,                     IBM Cognos Business intelligence,\n",
    "                                         Tableau,                                      IBM Watson Machine Learning,\n",
    "                                         Microsoft Power BI,                           AI Platform Training.\n",
    "                                         IBM Cognos Analytics,\n",
    "                                         SPSS Modeler,\n",
    "                                         SAS Enterprise Miner."
   ]
  },
  {
   "cell_type": "markdown",
   "id": "fe98d046",
   "metadata": {},
   "source": [
    "An arithmetic expression is an expression using additions +, subtractions -, multiplications *, divisions/.\n",
    "\n",
    "### Below are a few examples of evaluating arithmetic expressions in Python."
   ]
  },
  {
   "cell_type": "code",
   "execution_count": 4,
   "id": "fa216c34",
   "metadata": {},
   "outputs": [
    {
     "data": {
      "text/plain": [
       "80"
      ]
     },
     "execution_count": 4,
     "metadata": {},
     "output_type": "execute_result"
    }
   ],
   "source": [
    "#This a simple arithmetic expression to mutiply then add integers.\n",
    "\n",
    "((9*8)+8)\n"
   ]
  },
  {
   "cell_type": "code",
   "execution_count": 5,
   "id": "3a13df69",
   "metadata": {},
   "outputs": [
    {
     "data": {
      "text/plain": [
       "3.3333333333333335"
      ]
     },
     "execution_count": 5,
     "metadata": {},
     "output_type": "execute_result"
    }
   ],
   "source": [
    "##This will convert 200 minutes to hours by diving by 60\n",
    "200/60\n"
   ]
  },
  {
   "cell_type": "markdown",
   "id": "4206f269",
   "metadata": {},
   "source": [
    "## Author:\n",
    "Mustafa Sağlam"
   ]
  }
 ],
 "metadata": {
  "kernelspec": {
   "display_name": "Python 3 (ipykernel)",
   "language": "python",
   "name": "python3"
  },
  "language_info": {
   "codemirror_mode": {
    "name": "ipython",
    "version": 3
   },
   "file_extension": ".py",
   "mimetype": "text/x-python",
   "name": "python",
   "nbconvert_exporter": "python",
   "pygments_lexer": "ipython3",
   "version": "3.10.9"
  }
 },
 "nbformat": 4,
 "nbformat_minor": 5
}

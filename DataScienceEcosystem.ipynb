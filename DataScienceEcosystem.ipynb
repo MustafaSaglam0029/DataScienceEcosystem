{
 "cells": [
  {
   "cell_type": "markdown",
   "id": "b8fbc5ce",
   "metadata": {},
   "source": [
    "# Data Science Tools and Ecosystem"
   ]
  },
  {
   "cell_type": "markdown",
   "id": "d46d811d",
   "metadata": {},
   "source": [
    "In this notebook, Data Science Tools and Ecosystem are summarized."
   ]
  },
  {
   "cell_type": "markdown",
   "id": "6a871602",
   "metadata": {},
   "source": [
    "#### Objectives: \n",
    "List popular languages for Data Science.\n",
    "List common libraries for Data Science.\n",
    "List Data Science Tools.\n",
    "Explain the Arithmetic Expressions."
   ]
  },
  {
   "cell_type": "markdown",
   "id": "05fbc6b1",
   "metadata": {},
   "source": [
    "Some of the popular languages that Data Scientists use are:\n",
    "1.SQL\n",
    "2.R\n",
    "3.Scala\n",
    "4.Java\n",
    "5.Julia\n",
    "6.Python"
   ]
  },
  {
   "cell_type": "markdown",
   "id": "ffe35cb9",
   "metadata": {},
   "source": [
    "Some of the commonly used libraries used by Data Scientists include:\n",
    "1.Pandas\n",
    "2.Numpy\n",
    "3.Matplotlib\n",
    "4.Seaborn\n",
    "5.Scikit-learn\n",
    "6.Keras\n",
    "7.Apache Spark\n",
    "8.ggpilot2"
   ]
  },
  {
   "cell_type": "markdown",
   "id": "f33ccc3f",
   "metadata": {},
   "source": [
    "#### Data Science Tools:   \n",
    "Apache Airflow, \n",
    "Kubeflow,\n",
    "Apache Kafka,\n",
    "Apache Nifi,\n",
    "Apache SparkSQL,\n",
    "NodeRED,  \n",
    "Jupyter Notebooks,\n",
    "JupyterLab,\n",
    "Knime, \n",
    "Orange."
   ]
  },
  {
   "cell_type": "markdown",
   "id": "3f434a92",
   "metadata": {},
   "source": [
    "### Below are a few examples of evaluating arithmetic expressions in Python."
   ]
  },
  {
   "cell_type": "code",
   "execution_count": 7,
   "id": "81dde1a6",
   "metadata": {},
   "outputs": [
    {
     "data": {
      "text/plain": [
       "17"
      ]
     },
     "execution_count": 7,
     "metadata": {},
     "output_type": "execute_result"
    }
   ],
   "source": [
    "#This a simple arithmetic expression to mutiply then add integers.\n",
    "\n",
    "(3*4)+5\n"
   ]
  },
  {
   "cell_type": "code",
   "execution_count": 5,
   "id": "9203a9f9",
   "metadata": {},
   "outputs": [
    {
     "data": {
      "text/plain": [
       "3.3333333333333335"
      ]
     },
     "execution_count": 5,
     "metadata": {},
     "output_type": "execute_result"
    }
   ],
   "source": [
    "##This will convert 200 minutes to hours by diving by 60\n",
    "200/60\n"
   ]
  },
  {
   "cell_type": "markdown",
   "id": "2f1d7387",
   "metadata": {},
   "source": [
    "## Author:\n",
    "Mustafa Sağlam"
   ]
  }
 ],
 "metadata": {
  "kernelspec": {
   "display_name": "Python 3 (ipykernel)",
   "language": "python",
   "name": "python3"
  },
  "language_info": {
   "codemirror_mode": {
    "name": "ipython",
    "version": 3
   },
   "file_extension": ".py",
   "mimetype": "text/x-python",
   "name": "python",
   "nbconvert_exporter": "python",
   "pygments_lexer": "ipython3",
   "version": "3.10.9"
  }
 },
 "nbformat": 4,
 "nbformat_minor": 5
}
